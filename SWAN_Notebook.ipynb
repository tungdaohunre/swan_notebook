{
 "cells": [
  {
   "cell_type": "markdown",
   "id": "01671c41-1b54-4cf2-805c-283b303a7fe3",
   "metadata": {
    "id": "QYWedlR0lxMl",
    "tags": []
   },
   "source": [
    "**Table of content**\n",
    "1. [Introduction](#section1)<br>\n",
    "2. [Installation and operation]()<br>\n",
    "    2.1. [Installation](http://localhost:8888/lab/tree/Downloads/Jupyter_notebooks/Tung_Notebooks/SWAN_Notebook/SWAN_Installation.ipynb)<br>\n",
    "    2.2. [Operation](http://localhost:8888/lab/tree/Downloads/Jupyter_notebooks/Tung_Notebooks/SWAN_Notebook/SWAN_Notebook.ipynb)<br>\n",
    "3. [Wave simulation examples](http://localhost:8888/lab/tree/Downloads/Jupyter_notebooks/Tung_Notebooks/SWAN_Notebook/SWAN_Example.ipynb)<br>\n",
    "4. [Remarks](#section4)\n",
    "5. [Reference](#section5)\n",
    "<br><br>\n",
    "Author: Tung Dao (Dao Hoang Tung), March 2022\n",
    "---"
   ]
  },
  {
   "cell_type": "markdown",
   "id": "dcf7bf8c-c9ef-43e0-999a-83ba48acbbe3",
   "metadata": {},
   "source": [
    "# <b id=\"section1\">Introduction</b>\n",
    "---"
   ]
  },
  {
   "cell_type": "markdown",
   "id": "a5a19de5-5888-4ddb-8ba6-fa67f42c18ba",
   "metadata": {},
   "source": [
    "*SWAN* model generally can simulate several physical phenomena, for example:\n",
    "* Wave propagation in time and space, shoaling, refraction due to current and depth, frequency shifting due to currents and non-stationary depth.\n",
    "* Wave generation by wind.\n",
    "* Three- and four-wave interactions.\n",
    "* Whitecapping, bottom friction and depth-induced breaking.\n",
    "* Dissipation due to aquatic vegetation, turbulent flow and viscous fluid mud.\n",
    "* Wave-induced set-up.\n",
    "* Propagation from laboratory up to global scales.\n",
    "* Transmission through and reflection (specular and diffuse) against obstacles.\n",
    "* Diffraction.\n",
    "<br>\n",
    "\n",
    "The SWAN model has been used for at least two decades and continues to grow to be a trust model for offshore-to-nearshore simulations. From early 1990, there are nearly 70 publications that take into account the SWAN model as a based model for finding new research. The list of publications can be found [here](https://swanmodel.sourceforge.io/references/references.htm)."
   ]
  },
  {
   "cell_type": "markdown",
   "id": "56096027-8100-4814-8990-f107f0968059",
   "metadata": {},
   "source": [
    "# <b id=\"section4\">Remarks</b>\n",
    "---"
   ]
  },
  {
   "cell_type": "markdown",
   "id": "f67f0b71-7b72-42e4-b0e3-c940ee2bbdf6",
   "metadata": {},
   "source": [
    "# <b id=\"section5\">Reference</b>\n",
    "---"
   ]
  }
 ],
 "metadata": {
  "kernelspec": {
   "display_name": "Python 3 (ipykernel)",
   "language": "python",
   "name": "python3"
  },
  "language_info": {
   "codemirror_mode": {
    "name": "ipython",
    "version": 3
   },
   "file_extension": ".py",
   "mimetype": "text/x-python",
   "name": "python",
   "nbconvert_exporter": "python",
   "pygments_lexer": "ipython3",
   "version": "3.9.7"
  }
 },
 "nbformat": 4,
 "nbformat_minor": 5
}

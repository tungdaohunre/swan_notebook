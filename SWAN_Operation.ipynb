{
 "cells": [
  {
   "cell_type": "markdown",
   "id": "11325603-a02b-4fb2-821e-74ab8dd04ba9",
   "metadata": {},
   "source": [
    "# <b>Operation</b>\n",
    "---"
   ]
  },
  {
   "cell_type": "markdown",
   "id": "b777c592-535b-4a92-b468-2c040f7b5ea2",
   "metadata": {},
   "source": [
    "## <b>Command files</b>"
   ]
  },
  {
   "cell_type": "markdown",
   "id": "150ea665-999f-4195-aea5-a8874e8181bc",
   "metadata": {},
   "source": [
    "In order to simulate a scenario, users need two important files, the bathymetry, and the command files. The bathymetry which can be understood as the computational spatial grid must be defined by the users. This also means that users can define the boundaries of the computational grid based on their interests which can be either land or water or both land and water. Figure 3 shows a common profile that can be used to simulate wave propagation from offshore to nearshore.\n",
    "<center>\n",
    "<img src=\"https://raw.githubusercontent.com/tungdaohunre/swan_notebook/main/Figures/profile_example.png\" width=\"700\"/><br>\n",
    "<i> Figure 3: Example of a profile used in SWAN model</i></center><br>\n",
    "\n",
    "The command file, on the other hands, contains necessary command lines for a wave condition traveling from the model boundary. For example in Figure 3, the model boundary is set at the left side and wave can propagate to the right at the end of the profile. Figure 4 shows an example of command lines in the command file.\n",
    "<center>\n",
    "<img src=\"https://raw.githubusercontent.com/tungdaohunre/swan_notebook/main/Figures/Command_file.png\" width=\"600\"/><br>\n",
    "<i> Figure 4: Example of command lines used in SWAN model</i></center><br>"
   ]
  },
  {
   "cell_type": "markdown",
   "id": "c637f33b-ca4f-41c4-b2d6-cc40e07764f9",
   "metadata": {},
   "source": [
    "## <b id=\"section2_4\">Command line interpretation</b>"
   ]
  },
  {
   "cell_type": "markdown",
   "id": "3c661915-7a5c-43da-980b-f46cd25f34b3",
   "metadata": {},
   "source": [
    "The interpretation of all command lines can be found in the [SWAN User Manual](https://swanmodel.sourceforge.io/). Belows are several important explanations for command lines shown in Figure 4:\n",
    "<br>\n",
    "* ***Heading commands***\n",
    "    * **PROJ 'project_name' 'number'**: Project name and number. <br>\n",
    "* ***Model inputs*** \n",
    "    * **MODE STAT ONED**: Model runs in 1D. It means that a rectilinear grid can be defined as a genuine one-dimentional one.\n",
    "    * **SET**: Users set water level, it is 2.0 m in Figure 4\n",
    "* ***Computational grid*** \n",
    "    * **CGRID REG 0. 0. 0. 9978.0 0. 1000 0**: Computational grid and indicated by the command *CGRID*.\n",
    "    * **REG**: The computational grid is defined as uniform and rectangular.\n",
    "    * **0. 0. 0. 9978.0 0. 1000 0**\n",
    "        * The first \"0.\" is the direction of the grid, which is 0.0 degrees in Cartesian convention (see more in the User Manual).\n",
    "        * The next \"0. 0.\" is the geographic location of the origin of the computational grid in the x- and y-axis, respectively (the default is 0.0, but users must give a value, even it is in default mode).\n",
    "        * The \"9978 0.\" is the length of the computational grid in the x- and y-axis, respectively. In the example, the length of the computational grid on the x-axis is 9978 m and on the y-axis is 0 m.\n",
    "        * The \"1000 0\" is the number of grid cells on the x-axis and y-axis. So, in the example, there is 1000 grid cell in 9978 m in the x-axis, and 0 grid cells in 0 m in the y-axis.\n",
    "    * **INPGRID BOTTOM REGULAR 0. 0. 0. 1000 0 10 0**: The bottom level can be called out by the command INPGRID. Beside bottom level, there are multiple choice for this command, for example win, friction or water level. See the User Manual for more information.\n",
    "        * **REGULAR**: The input grid is uniform and rectangular.\n",
    "        * **0. 0. 0. 1000 0 10 0**\n",
    "        * The first \"0.\" is the direction of the grid, which is 0.0 degrees in Cartesian convention (see more in the User Manual).\n",
    "        * The next \"0. 0.\" is the geographic location of the origin of the input grid in the x- and y-axis, respectively (the default is 0.0, but users must give a value, even it is in default mode).\n",
    "        * The \"1000 0\" is the number of mesh on the x-axis and y-axis. So, in the example, there is 1000 meshes in 9978 m in the x-axis, and 0 grid cells in 0 m in the y-axis.\n",
    "        * The \"10 0\" is the mesh size in the x- and y-axis, respectively. In the example, the mesh size on the x-axis is 0.01 m and on the y-axis is 0 m. Note that the mesh size is often about 1/100 wavelength.\n",
    "    * **READINP BOTTOM 1. 'Exercise_1.bot' 1 0 FREE**: The model also requires the bathymetry files in the same directory of the input command files. Using command READINP to call the bathymetry file. In the example, the file names \"profile.bot\".\n",
    "        * **BOTTOM**: this is to define the file as bathymetry type.\n",
    "        * Note that the profile file is formed as above example. It is recommended to define the number of grid cells in the profile bottom file. For example, the number of grid cells: n_{grid cell} = n_{total value of bottom file} - 1\n",
    "* ***Boundary condition***\n",
    "    * **BOUnd SHAPespec JONswap** The \"BOUND SHAPESPEC\" command define the spectra in both frequency and direction at the boundary of the computational grid. The \"JONSWAP\" spectrum is used, and default.\n",
    "    * **BOU SIDE W CCW CON PAR 2 5 0 800 **\n",
    "        * The \"BOUNDCOND\" (**BOU**) defines a boundary condition at the boundary. \n",
    "        * The side of the boundary is defined with \"**SIDE**\" command and after the direction is \"**W**\" (at west side), sometimes, the side can be at north side (\"N\").\n",
    "        * **CCW BTYPE** are clockwise and are the type of boundary condition (see User Manual for more information)\n",
    "        * **WEAK** the boundary condition is weakly reflection\n",
    "        * **CON** the wave conditions including a constant (\"**CON**\")\n",
    "        * **PAR 2 5 0 800** the wave spectra are defined by means of the following spectral parameters with wave height as **2** m, wave period is **5** seconds. The direction of the wave is **0.0**, perpendicular to the shoreline. The coefficient of directional spreading is **800**, see Maunal.\n",
    "* ***Phisical condition***\n",
    "    * **WIND** wind speed can be put with the velocity value in x and y in m/s. In example, the wind speed in x-direction is 20 m/s.\n",
    "    * **OFF QUAD** the model DO NOT run with quadruplet interactions and whitecapping. It is recommeded to set it ON. \n",
    "    * **TRIAD**, **BREAK**, **FRIC JONSWAP** and **SETUP** are activated. See Manual.\n",
    "* ***Outputs definition***\n",
    "    * **CURVE 'profile' 0. 0. 1000 9978 0.** defines the output on a rectangular, uniform grid in a regular frame. This command has the section name as \"profile\"; frame starts at x, y = 0; the x-length = 9978 m, y-length = 0; number of points is 1000 in x-direction and 0 in y-direction.\n",
    "    * **POINTS** command defines a single output location. The users can define the coordinates of a single point or in a file with the same structure. **POINTS x y**\n",
    "* ***Write outputs***\n",
    "    * **SPEC** give the spectral density results. In the example, the spectral density is written for point 1 and point 2. The outputs will be extracted to files, for example, spectral density of point 1 will be written as \"Ex1p1.spec\"\n",
    "    * **TABLE** give the results as column for each output demand, for example wave heights or set-up. See Manual for more details. The outputs will be extracted to files, for example, wave heights along the profile will be written as \"profile.tab\"\n",
    "* ***Computation***\n",
    "    * This is the final step to set to specify the time frame for the simulation and a time step. It is indicated by the command **COMPUTE**"
   ]
  },
  {
   "cell_type": "markdown",
   "id": "6c81c445-a58e-4885-b231-b82ce0b24d0f",
   "metadata": {},
   "source": [
    "## <b id=\"section2_3\">Running model</b>"
   ]
  },
  {
   "cell_type": "markdown",
   "id": "1b679238-cbda-4090-802c-6449bfcd81a4",
   "metadata": {},
   "source": [
    "The SWAN model run in Command Prompt for a Window system PC/Laptop. Users can edit both the command and the bathymetry files with an ASCII editor, for example MS Notepad or [Notepad++](https://notepad-plus-plus.org/downloads/). When those files are ready and put in the same folder (same directory), users can run the model. Note that the command file must be save as 'filename.swn'. The most common commands to operate the model are \"cd\", \"dir\", and \"swanrun\", shown as:\n",
    "<center>\n",
    "    <img src=\"https://raw.githubusercontent.com/tungdaohunre/swan_notebook/main/Figures/Command_prompt_window_CD.png\" width=\"400\"/>\n",
    "    <img src=\"https://raw.githubusercontent.com/tungdaohunre/swan_notebook/main/Figures/Command_prompt_window_dir.png\" width=\"400\"/>\n",
    "    <img src=\"https://raw.githubusercontent.com/tungdaohunre/swan_notebook/main/Figures/Command_prompt_window_swanrun.png\" width=\"400\"/><br>\n",
    "<i> Figure 4: Command to run a SWAN case. From left to right, the \"cd\", the \"dir\", and the \"swanrun\" commands.</i></center><br><br>\n",
    "\n",
    "*Some tips for using DOS promt:*\n",
    "```\n",
    " * cd       - change directory (or folder)\n",
    " * mkdir    - creat a new directory\n",
    " * rmdir    - remove an exsiting directory\n",
    " * dir      - list file and directories in curent directory\n",
    " * copy     - copy file(s) to other location\n",
    " * del      - delete file(s)\n",
    " * ren      - rename file or directory\n",
    " * type     - to check the content of a file\n",
    "\n",
    " * swashrun - run the model\n",
    " ```"
   ]
  }
 ],
 "metadata": {
  "kernelspec": {
   "display_name": "Python 3 (ipykernel)",
   "language": "python",
   "name": "python3"
  },
  "language_info": {
   "codemirror_mode": {
    "name": "ipython",
    "version": 3
   },
   "file_extension": ".py",
   "mimetype": "text/x-python",
   "name": "python",
   "nbconvert_exporter": "python",
   "pygments_lexer": "ipython3",
   "version": "3.9.7"
  }
 },
 "nbformat": 4,
 "nbformat_minor": 5
}

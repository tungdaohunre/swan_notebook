{
 "cells": [
  {
   "cell_type": "markdown",
   "id": "8abff855-4c32-4d57-bc14-67acb30a4d87",
   "metadata": {},
   "source": [
    "# <b>Installation</b>\n",
    "---"
   ]
  },
  {
   "cell_type": "markdown",
   "id": "a5fef268-18ad-4325-8b4a-0d27f58a8afc",
   "metadata": {},
   "source": [
    "## <b id=\"section2_1\">Download</b>"
   ]
  },
  {
   "cell_type": "markdown",
   "id": "9edb7912-6c66-410e-9c50-a9b425f5fed8",
   "metadata": {},
   "source": [
    "SWAN model is an open-source code model and well-known among coastal engineering communities. The latest version is SWAN 41.31 and can be download via [the official website](https://swanmodel.sourceforge.io/)."
   ]
  },
  {
   "cell_type": "markdown",
   "id": "a20ad7a5-6c8c-4965-84ce-889e6eaf1c58",
   "metadata": {},
   "source": [
    "## <b id=\"section2_2\">Installaion</b>"
   ]
  },
  {
   "cell_type": "markdown",
   "id": "8f4b0b4e-63dd-4728-8e6e-d570c63a4047",
   "metadata": {},
   "source": [
    "After succesfully downloading the model, users can run the **Setup Wizzard** to install it. Users can run this model in both 32-bit or 64-bit depending on which system of user's computer.<br><br>\n",
    "This is the Setup Wizzard:\n",
    "<center>\n",
    "    <img src=\"https://raw.githubusercontent.com/tungdaohunre/swan_notebook/main/Figures/Setup_wizzard.png\" width=\"900\"/><br>\n",
    "<i> Figure 1: The Setup Wizzard file</i></center><br><br>\n",
    "\n",
    "In general, users should set the model system as the default unless users are already familiar with the model. Figure 2 shows the seven steps of installation, users just click on the next button until finish installing.\n",
    "<center>\n",
    "<img src=\"https://raw.githubusercontent.com/tungdaohunre/swan_notebook/main/Figures/swan_installation.jpg\" width=\"1100\"/><br>\n",
    "<i> Figure 2: Basis concept for wave run-up and wave overtopping</i></center><br>\n",
    "\n",
    "Users can also read the [Implimentation manual](https://swanmodel.sourceforge.io/online_doc/swanimp/swanimp.html) for installation and operation the model. <br><br>"
   ]
  }
 ],
 "metadata": {
  "kernelspec": {
   "display_name": "Python 3 (ipykernel)",
   "language": "python",
   "name": "python3"
  },
  "language_info": {
   "codemirror_mode": {
    "name": "ipython",
    "version": 3
   },
   "file_extension": ".py",
   "mimetype": "text/x-python",
   "name": "python",
   "nbconvert_exporter": "python",
   "pygments_lexer": "ipython3",
   "version": "3.9.7"
  }
 },
 "nbformat": 4,
 "nbformat_minor": 5
}
